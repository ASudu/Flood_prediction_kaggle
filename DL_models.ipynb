{
 "cells": [
  {
   "cell_type": "markdown",
   "metadata": {},
   "source": [
    "# DL models\n",
    "\n",
    "Here we try a FCN"
   ]
  },
  {
   "cell_type": "code",
   "execution_count": 2,
   "metadata": {},
   "outputs": [],
   "source": [
    "import pandas as pd\n",
    "import numpy as np\n",
    "from src.FCN import FCN\n",
    "from sklearn.preprocessing import StandardScaler\n",
    "from sklearn.model_selection import train_test_split\n",
    "import torch\n",
    "import torch.nn as nn\n",
    "import torch.nn.functional as F\n",
    "import time\n",
    "import matplotlib.pyplot as plt"
   ]
  },
  {
   "cell_type": "markdown",
   "metadata": {},
   "source": [
    "## Data"
   ]
  },
  {
   "cell_type": "code",
   "execution_count": 3,
   "metadata": {},
   "outputs": [
    {
     "data": {
      "text/plain": [
       "((1117957, 22), (745305, 21))"
      ]
     },
     "execution_count": 3,
     "metadata": {},
     "output_type": "execute_result"
    }
   ],
   "source": [
    "df_train = pd.read_csv(\"data/train.csv\")\n",
    "df_test = pd.read_csv(\"data/test.csv\")\n",
    "df_train.shape, df_test.shape"
   ]
  },
  {
   "cell_type": "code",
   "execution_count": 4,
   "metadata": {},
   "outputs": [],
   "source": [
    "X,y = df_train.drop(columns=['id','FloodProbability']).values, df_train['FloodProbability'].values\n",
    "\n",
    "# Scaling\n",
    "scaler = StandardScaler()\n",
    "X_s = scaler.fit_transform(X)\n",
    "\n",
    "# train pred split\n",
    "X_train, X_val, y_train, y_val = train_test_split(X_s,y,test_size=0.2,random_state=20)"
   ]
  },
  {
   "cell_type": "markdown",
   "metadata": {},
   "source": [
    "Define the model instance"
   ]
  },
  {
   "cell_type": "code",
   "execution_count": 5,
   "metadata": {},
   "outputs": [
    {
     "data": {
      "text/plain": [
       "FCN(\n",
       "  (hidden1): Linear(in_features=20, out_features=32, bias=True)\n",
       "  (act1): ReLU()\n",
       "  (hidden2): Linear(in_features=32, out_features=16, bias=True)\n",
       "  (act2): ReLU()\n",
       "  (hidden3): Linear(in_features=16, out_features=8, bias=True)\n",
       "  (act3): ReLU()\n",
       "  (out): Linear(in_features=8, out_features=1, bias=True)\n",
       "  (act_out): Sigmoid()\n",
       ")"
      ]
     },
     "execution_count": 5,
     "metadata": {},
     "output_type": "execute_result"
    }
   ],
   "source": [
    "in_dim = X_train.shape[1]\n",
    "model = FCN(in_dim)\n",
    "model"
   ]
  },
  {
   "cell_type": "markdown",
   "metadata": {},
   "source": [
    "We choose the standard **L2 Loss** (`nn.MSELoss`) and the **AdamW** optimizer"
   ]
  },
  {
   "cell_type": "code",
   "execution_count": 12,
   "metadata": {},
   "outputs": [],
   "source": [
    "# Loss and optimizer\n",
    "criterion = nn.MSELoss()\n",
    "optimizer = torch.optim.AdamW(model.parameters(),lr=0.05)"
   ]
  },
  {
   "cell_type": "code",
   "execution_count": 13,
   "metadata": {},
   "outputs": [],
   "source": [
    "# Convert X and y to tensors\n",
    "Xt = torch.tensor(X_train,dtype=torch.float32)\n",
    "yt = torch.tensor(y_train,dtype=torch.float32).reshape(-1,1)"
   ]
  },
  {
   "cell_type": "markdown",
   "metadata": {},
   "source": [
    "Now let us define the training loop"
   ]
  },
  {
   "cell_type": "code",
   "execution_count": 14,
   "metadata": {},
   "outputs": [
    {
     "data": {
      "text/plain": [
       "894365"
      ]
     },
     "execution_count": 14,
     "metadata": {},
     "output_type": "execute_result"
    }
   ],
   "source": [
    "Xt.shape[0]"
   ]
  },
  {
   "cell_type": "code",
   "execution_count": 15,
   "metadata": {},
   "outputs": [
    {
     "name": "stdout",
     "output_type": "stream",
     "text": [
      "Completed epoch 1/20, epoch loss: 11480.09375 Time taken 80.8124794960022 seconds\n",
      "Completed epoch 2/20, epoch loss: 11497.3369140625 Time taken 153.59643125534058 seconds\n",
      "Completed epoch 3/20, epoch loss: 11497.3369140625 Time taken 59.20412564277649 seconds\n",
      "Completed epoch 4/20, epoch loss: 11497.3369140625 Time taken 40.38809394836426 seconds\n",
      "Completed epoch 5/20, epoch loss: 11497.3369140625 Time taken 40.22665238380432 seconds\n",
      "Completed epoch 6/20, epoch loss: 11497.3369140625 Time taken 40.27253556251526 seconds\n",
      "Completed epoch 7/20, epoch loss: 11497.3369140625 Time taken 40.319764375686646 seconds\n",
      "Completed epoch 8/20, epoch loss: 11497.3369140625 Time taken 75.03323483467102 seconds\n",
      "Completed epoch 9/20, epoch loss: 11497.3369140625 Time taken 41.77688217163086 seconds\n",
      "Completed epoch 10/20, epoch loss: 11497.3369140625 Time taken 200.74470829963684 seconds\n",
      "Completed epoch 11/20, epoch loss: 11497.3369140625 Time taken 202.82516503334045 seconds\n"
     ]
    }
   ],
   "source": [
    "n_epochs = 20\n",
    "batch_size = 20\n",
    "epochs_loss = []\n",
    "for epoch in range(n_epochs):\n",
    "    start = time.time()\n",
    "    epoch_loss = 0.0\n",
    "    for i in range(0,Xt.shape[0],batch_size):\n",
    "        # Forward pass\n",
    "        X_b = Xt[i:i+batch_size]\n",
    "        y_pred = model(X_b)\n",
    "\n",
    "        # Loss computation\n",
    "        y_b = yt[i:i+batch_size]\n",
    "        loss = criterion(y_pred,y_b)\n",
    "        epoch_loss += loss\n",
    "\n",
    "        # Backprop\n",
    "        loss.backward()\n",
    "        optimizer.step()\n",
    "    end = time.time()\n",
    "    print(f'Completed epoch {epoch+1}/{n_epochs}, epoch loss: {epoch_loss} Time taken {end-start} seconds')\n",
    "    epochs_loss.append(epoch_loss)"
   ]
  },
  {
   "cell_type": "code",
   "execution_count": null,
   "metadata": {},
   "outputs": [
    {
     "data": {
      "image/png": "[encoded data removed]",
      "text/plain": [
       "<Figure size 640x480 with 1 Axes>"
      ]
     },
     "metadata": {},
     "output_type": "display_data"
    }
   ],
   "source": [
    "plt.plot(list(range(n_epochs)),[x.detach().numpy() for x in epochs_loss])\n",
    "plt.show()"
   ]
  }
 ],
 "metadata": {
  "kernelspec": {
   "display_name": "Python 3",
   "language": "python",
   "name": "python3"
  },
  "language_info": {
   "codemirror_mode": {
    "name": "ipython",
    "version": 3
   },
   "file_extension": ".py",
   "mimetype": "text/x-python",
   "name": "python",
   "nbconvert_exporter": "python",
   "pygments_lexer": "ipython3",
   "version": "3.11.4"
  }
 },
 "nbformat": 4,
 "nbformat_minor": 2
}
