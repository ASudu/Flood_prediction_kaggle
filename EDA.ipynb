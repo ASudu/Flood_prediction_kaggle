{
 "cells": [
  {
   "cell_type": "markdown",
   "metadata": {},
   "source": [
    "# EDA\n",
    "\n",
    "In this notebook, we just go through the data and understand the various parameters"
   ]
  },
  {
   "cell_type": "code",
   "execution_count": 4,
   "metadata": {},
   "outputs": [],
   "source": [
    "# Imports\n",
    "import pandas as pd\n",
    "import numpy as np\n",
    "import seaborn as sns\n"
   ]
  },
  {
   "cell_type": "code",
   "execution_count": 6,
   "metadata": {},
   "outputs": [
    {
     "data": {
      "text/plain": [
       "(Index(['id', 'MonsoonIntensity', 'TopographyDrainage', 'RiverManagement',\n",
       "        'Deforestation', 'Urbanization', 'ClimateChange', 'DamsQuality',\n",
       "        'Siltation', 'AgriculturalPractices', 'Encroachments',\n",
       "        'IneffectiveDisasterPreparedness', 'DrainageSystems',\n",
       "        'CoastalVulnerability', 'Landslides', 'Watersheds',\n",
       "        'DeterioratingInfrastructure', 'PopulationScore', 'WetlandLoss',\n",
       "        'InadequatePlanning', 'PoliticalFactors', 'FloodProbability'],\n",
       "       dtype='object'),\n",
       " (1117957, 22))"
      ]
     },
     "execution_count": 6,
     "metadata": {},
     "output_type": "execute_result"
    }
   ],
   "source": [
    "# data\n",
    "df_train = pd.read_csv(\"data/train.csv\")\n",
    "df_train.columns, df_train.shape"
   ]
  },
  {
   "cell_type": "code",
   "execution_count": 9,
   "metadata": {},
   "outputs": [
    {
     "data": {
      "text/plain": [
       "array([ 5,  6,  3,  8,  4,  7,  9,  2, 10,  1,  0, 11, 12, 13, 15, 14, 16],\n",
       "      dtype=int64)"
      ]
     },
     "execution_count": 9,
     "metadata": {},
     "output_type": "execute_result"
    }
   ],
   "source": [
    "df_train.MonsoonIntensity.unique()"
   ]
  }
 ],
 "metadata": {
  "kernelspec": {
   "display_name": "Python 3",
   "language": "python",
   "name": "python3"
  },
  "language_info": {
   "codemirror_mode": {
    "name": "ipython",
    "version": 3
   },
   "file_extension": ".py",
   "mimetype": "text/x-python",
   "name": "python",
   "nbconvert_exporter": "python",
   "pygments_lexer": "ipython3",
   "version": "3.11.4"
  }
 },
 "nbformat": 4,
 "nbformat_minor": 2
}
